{
 "cells": [
  {
   "cell_type": "markdown",
   "metadata": {},
   "source": [
    "## Таблиця населення міст і смт України за даними Держстату\n",
    "\n",
    "Почищена, виправлена (було багато помилок), з доданням кодів КОАТУУ та збереженням старих назв (поруч із декомунізованими)."
   ]
  },
  {
   "cell_type": "code",
   "execution_count": 1,
   "metadata": {
    "collapsed": false
   },
   "outputs": [],
   "source": [
    "import pandas as pd\n",
    "import matplotlib.pyplot as plt\n",
    "import matplotlib as mpl\n",
    "import numpy as np\n",
    "import re\n",
    "%matplotlib inline"
   ]
  },
  {
   "cell_type": "markdown",
   "metadata": {},
   "source": [
    "Крок 1: дістати назви та КОАТУУ-коди областей."
   ]
  },
  {
   "cell_type": "code",
   "execution_count": 2,
   "metadata": {
    "collapsed": false
   },
   "outputs": [],
   "source": [
    "wikiurl = 'https://uk.wikipedia.org/wiki/%D0%A1%D0%BF%D0%B8%D1%81%D0%BE%D0%BA_%D0%BA%D0%BE%D0%B4%D1%96%D0%B2_%D0%9A%D0%9E%D0%90%D0%A2%D0%A3%D0%A3_%D0%B4%D0%BB%D1%8F_%D0%BE%D0%B1%D0%BB%D0%B0%D1%81%D1%82%D0%B5%D0%B9'\n",
    "oblcodes = pd.read_html(wikiurl, skiprows=2, header=None)[0]\n",
    "oblcodes = oblcodes.iloc[:,1:]\n",
    "oblcodes.columns = ['oblcode', 'obl']\n",
    "\n",
    "oblcodes['obl'] = oblcodes['obl'].apply(lambda x: x.split('/')[0]).str.strip()\n",
    "oblcodes['oblcode'] = oblcodes['oblcode'].astype(str).apply(\n",
    "    lambda x: ('0'+x) if (len(x) < 2) else x)"
   ]
  },
  {
   "cell_type": "markdown",
   "metadata": {},
   "source": [
    "Крок 2: відкрити класифікатор КОАТУУ від Держстату та розібратись із ним. Додати коди областей.\n",
    "\n",
    "Колонка \"np\" вказує на тип поселення, включаючи М (міста), Р (райони міст) , Т (смт), С (села), Щ (селища - маленькі села, грубо кажучи). Я потім додав також В (великі міста, які діляться на окремі райони і не мали типу)."
   ]
  },
  {
   "cell_type": "code",
   "execution_count": 3,
   "metadata": {
    "collapsed": false
   },
   "outputs": [],
   "source": [
    "# current KOATUU is from 26-12-2016\n",
    "koatuu = pd.read_excel('KOATUU_26122016.xls', sheetname=0)\n",
    "koatuu.columns = ['koatuu', 'np', 'town']\n",
    "\n",
    "def fix_code(cell):\n",
    "    if len(str(cell)) == 9:\n",
    "        return '0'+str(cell)\n",
    "    else:\n",
    "        return str(cell)\n",
    "\n",
    "def remove_caps(cell):\n",
    "    pos = cell.find(\"’\")\n",
    "    if pos != -1:\n",
    "        newcell = (cell[:pos+1]) + (cell[pos+1]).lower() + (cell[pos+2:])\n",
    "        return newcell\n",
    "    else:\n",
    "        return cell\n",
    "\n",
    "koatuu['koatuu'] = koatuu['koatuu'].apply(fix_code)\n",
    "koatuu['oblcode'] = koatuu['koatuu'].apply(lambda x: x[:2])\n",
    "koatuu['town'] = koatuu['town'].str.replace(\"'\", \"’\")\n",
    "koatuu['np'] = koatuu['np'].str.replace(\"C\", \"С\")\n",
    "koatuu = koatuu.merge(oblcodes, on='oblcode', how='left')"
   ]
  },
  {
   "cell_type": "markdown",
   "metadata": {},
   "source": [
    "Дістаємо назви районів або міст обласного значення, а також робимо колонку \"type\" із більш адекватними назвами типів."
   ]
  },
  {
   "cell_type": "code",
   "execution_count": 4,
   "metadata": {
    "collapsed": true
   },
   "outputs": [],
   "source": [
    "def get_dis(row):\n",
    "    code = row['koatuu']\n",
    "    name = row['town']\n",
    "    if re.match(r'\\d[1-9][1-9]\\d{2}00000', code):\n",
    "        if not re.match(r'\\d{3}0000000', code):\n",
    "            return name\n",
    "    elif re.match(r'80[1-9][1-9]\\d00000', code):\n",
    "        return name\n",
    "    elif (code == '8000000000') or (code == '8500000000'):\n",
    "        return name\n",
    "    return np.nan\n",
    "\n",
    "def get_big_type(row):\n",
    "    code = row['koatuu']\n",
    "    type_ = row['np']\n",
    "    name = row['town']\n",
    "    if re.match(r'\\d[1-9][1-9]\\d{2}00000', code):\n",
    "        if not re.match(r'\\d{3}0000000', code):\n",
    "            if type_ == 'М':\n",
    "                return 'town'\n",
    "            elif type_ == 'Р':\n",
    "                return 'city_dis'\n",
    "            elif re.match(r'.*РАЙОН.*', name):\n",
    "                return np.nan\n",
    "            else:\n",
    "                return 'city'\n",
    "    else:\n",
    "        if type_ == 'С':\n",
    "            return 'village'\n",
    "        elif type_ == 'М':\n",
    "            return 'town'\n",
    "        elif type_ == 'Т':\n",
    "            return 'smt'\n",
    "        elif type_ == 'Щ':\n",
    "            return 'small_village'\n",
    "        elif type_ == 'Р':\n",
    "            return 'city_dis'\n",
    "        elif (code == '8000000000') or (code == '8500000000'):\n",
    "            return 'city'\n",
    "    return np.nan"
   ]
  },
  {
   "cell_type": "code",
   "execution_count": 5,
   "metadata": {
    "collapsed": false
   },
   "outputs": [],
   "source": [
    "koatuu['dis'] = koatuu.apply(get_dis, axis=1)\n",
    "koatuu['type'] = koatuu.apply(get_big_type, axis=1)\n",
    "koatuu['dis'] = koatuu['dis'].fillna(method='ffill')"
   ]
  },
  {
   "cell_type": "code",
   "execution_count": 6,
   "metadata": {
    "collapsed": false
   },
   "outputs": [],
   "source": [
    "koatuu = koatuu.dropna(subset=['type'])\n",
    "koatuu['dis'] = koatuu['dis'].apply(\n",
    "    lambda x: x.split('/')[0] if ('/' in x) else x)\n",
    "koatuu['dis'] = koatuu['dis'].str.title().apply(remove_caps).str.replace('Район', 'район')\n",
    "koatuu['dis'] = koatuu['dis'].str.replace('М\\.', '')"
   ]
  },
  {
   "cell_type": "markdown",
   "metadata": {},
   "source": [
    "Для виправлення помилок та отримання старих назв беремо таблицю декомунізованих назв від Держстату."
   ]
  },
  {
   "cell_type": "code",
   "execution_count": 7,
   "metadata": {
    "collapsed": false,
    "scrolled": false
   },
   "outputs": [],
   "source": [
    "dekom = pd.read_excel('KOATUU_DEKOM_26.12.2016.xls')\n",
    "dekom.columns = ['koatuu','np','oldname','town','postanova']\n",
    "dekom = dekom[['koatuu', 'np', 'oldname', 'town']]\n",
    "dekom['oldname'] = dekom['oldname'].str.replace(\"'\", \"’\")\n",
    "dekom['town'] = dekom['town'].str.replace(\"'\", \"’\")\n",
    "dekom['koatuu'] = dekom['koatuu'].apply(fix_code)\n",
    "dekom['oblcode'] = dekom['koatuu'].apply(lambda x: x[:2])"
   ]
  },
  {
   "cell_type": "code",
   "execution_count": 8,
   "metadata": {
    "collapsed": false
   },
   "outputs": [],
   "source": [
    "koatuu = koatuu.merge(dekom, on = ['koatuu', 'town', 'oblcode', 'np'], how='left')\n",
    "koatuu['np'] = koatuu['np'].fillna('В')"
   ]
  },
  {
   "cell_type": "code",
   "execution_count": 9,
   "metadata": {
    "collapsed": true
   },
   "outputs": [],
   "source": [
    "koatuu_caps = koatuu.copy()"
   ]
  },
  {
   "cell_type": "code",
   "execution_count": 10,
   "metadata": {
    "collapsed": true
   },
   "outputs": [],
   "source": [
    "def get_abbr(row):\n",
    "    np = row['np']\n",
    "    town = row['town']\n",
    "    npdic = {\"С\": \"с. \", \"Щ\": \"с. \", \"М\": \"м. \", \"В\": \"м. \", \"Т\": \"смт \", \"Р\": \"р. \"}\n",
    "    newtown = npdic[np]+remove_caps(town.title())\n",
    "    return newtown\n",
    "\n",
    "koatuu['town'] = koatuu.apply(get_abbr, axis=1)\n",
    "koatuu['town'] = koatuu['town'].str.replace('\\sМ\\.', '')\n",
    "koatuu['dis'] = koatuu['dis'].str.replace('М\\.', '')\n",
    "koatuu['town'] = koatuu['town'].str.replace('м\\.', 'м. ').str.replace('  ', ' ')"
   ]
  },
  {
   "cell_type": "code",
   "execution_count": 11,
   "metadata": {
    "collapsed": true
   },
   "outputs": [],
   "source": [
    "#koatuu.to_csv('koatuu.csv', index=False)"
   ]
  },
  {
   "cell_type": "markdown",
   "metadata": {},
   "source": [
    "Тепер беремо таблицю зі збірника Держстату \"Чисельність наявного населення України на 1 січня 2016 року\". Дістаємо області, виправляємо помилки в назвах, дістаємо райони."
   ]
  },
  {
   "cell_type": "code",
   "execution_count": 12,
   "metadata": {
    "collapsed": true
   },
   "outputs": [],
   "source": [
    "pop = pd.read_excel('zb_nas_15xl.xls', 11, skiprows=5)\n",
    "pop = pop[1:-2]\n",
    "pop.columns = ['town', '2014', '2015', '2016']\n",
    "pop = pop.dropna(subset=['town'])"
   ]
  },
  {
   "cell_type": "code",
   "execution_count": 13,
   "metadata": {
    "collapsed": false
   },
   "outputs": [],
   "source": [
    "def get_pop_obl(cell):\n",
    "    if ('Республіка' in cell) or ('область' in cell):\n",
    "        return cell\n",
    "    elif 'м. Київ' in cell:\n",
    "        return 'Київ'\n",
    "    elif 'Севастополь' in cell:\n",
    "        return 'Севастополь'\n",
    "    else:\n",
    "        return np.nan\n",
    "\n",
    "pop['town'] = pop['town'].str.replace(\"'\", \"’\")\n",
    "pop['obl'] = pop['town'].apply(get_pop_obl)\n",
    "pop['obl'] = pop['obl'].fillna(method='ffill')"
   ]
  },
  {
   "cell_type": "code",
   "execution_count": 14,
   "metadata": {
    "collapsed": true
   },
   "outputs": [],
   "source": [
    "popreplace = {'м. Кіровоград': 'м. Кропивницький',\n",
    "              'м. Червонопартизанськ': 'м. Вознесенівка',\n",
    "              'Голуба затока': 'Голуба Затока',\n",
    "              'Симеїз': 'Сімеїз',\n",
    "              'Журавне': 'Журавно',\n",
    "              'Короштишів': 'Коростишів',\n",
    "              'Великий  Березний': 'Великий Березний',\n",
    "              'Комінтернівське': 'Доброслав',\n",
    "              'Сентяківка': 'Сентянівка'}\n",
    "\n",
    "disreplace = {'Комінтернівський район': 'Лиманський район'}\n",
    "\n",
    "pop = pop.replace({'town': popreplace}, regex=True)"
   ]
  },
  {
   "cell_type": "code",
   "execution_count": 15,
   "metadata": {
    "collapsed": true
   },
   "outputs": [],
   "source": [
    "wrong_towns = ['м. Київ', 'м. Балта', 'м. Біляївка', 'м. Каховка', 'м. Первомайський', \n",
    "               'м. Вільногірськ']\n",
    "#     elif (cell.strip() == 'м. Київ') or (\n",
    "#        cell.strip() == 'м. Балта') or (cell.strip() == 'м. Біляївка') or (\n",
    "#        cell.strip() == 'м. Каховка') or (cell.strip() == 'м. Первомайський')"
   ]
  },
  {
   "cell_type": "code",
   "execution_count": 16,
   "metadata": {
    "collapsed": false
   },
   "outputs": [],
   "source": [
    "def remove_ex(cell):\n",
    "    if re.match(r'.*\\(колишній.*', cell):\n",
    "        return cell.strip().split(' ')[0] +' район'\n",
    "    else:\n",
    "        return cell\n",
    "\n",
    "def get_pop_dis(cell):\n",
    "    if re.match(r'.*\\sрайон', cell.strip()) or re.match(r'.*(міськрада).*', cell.strip()):\n",
    "        newcell = re.sub(r'\\(.*', '', cell)\n",
    "        return newcell.strip()\n",
    "    elif 'м. Інкерман' in cell:\n",
    "        return 'Балаклавський'\n",
    "    elif 'смт Кача' in cell:\n",
    "        return 'Нахімовський'\n",
    "    elif cell.strip() in wrong_towns:\n",
    "        return cell.strip().split(' ')[1]\n",
    "    elif re.match(r'\\s\\sм.*', cell):\n",
    "        return cell.replace('м. ', '').strip()\n",
    "    else:\n",
    "        return np.nan\n",
    "    \n",
    "pop['town'] = pop['town'].apply(remove_ex)\n",
    "pop['dis'] = pop['town'].apply(get_pop_dis)\n",
    "pop['dis'] = pop['dis'].fillna(method='ffill')"
   ]
  },
  {
   "cell_type": "code",
   "execution_count": 17,
   "metadata": {
    "collapsed": false
   },
   "outputs": [],
   "source": [
    "def remove_dis(cell):\n",
    "    if cell.strip().startswith('м.') or cell.strip().startswith('смт '):\n",
    "        return cell.strip()\n",
    "    else:\n",
    "        return np.nan\n",
    "\n",
    "pop['town'] = pop['town'].apply(remove_dis)\n",
    "pop['town'] = pop['town'].str.replace(r'\\(.*', '').str.strip()\n",
    "pop['town'] = pop['town'].str.replace('м\\.', 'м. ').str.replace('  ', ' ')\n",
    "pop['dis'] = pop['dis'].str.replace('м\\.', '').str.replace('  ', ' ')\n",
    "pop['dis'] = pop['dis'].str.replace(r'\\(.*', '').str.strip()\n",
    "pop = pop.dropna(subset=['town'])"
   ]
  },
  {
   "cell_type": "markdown",
   "metadata": {},
   "source": [
    "У цій таблиці не всі назви районів/обласних міст декомунізовані. Це можна виправити."
   ]
  },
  {
   "cell_type": "code",
   "execution_count": 18,
   "metadata": {
    "collapsed": false
   },
   "outputs": [],
   "source": [
    "dekoa = koatuu_caps[koatuu_caps['koatuu'].str.endswith('00000')].copy()\n",
    "dekoa = dekoa.dropna(subset=['oldname'])\n",
    "dekdic = dict(zip(dekoa['oldname'], dekoa['town']))\n",
    "dekobl = dict(zip(dekoa['oldname'], dekoa['obl']))"
   ]
  },
  {
   "cell_type": "code",
   "execution_count": 19,
   "metadata": {
    "collapsed": false
   },
   "outputs": [],
   "source": [
    "def decommunize(row):\n",
    "    obl = row['obl']\n",
    "    dis = row['dis']\n",
    "    if dis.endswith('район'):\n",
    "        return dis\n",
    "    elif dis.upper() in dekdic.keys():\n",
    "        if dekobl[dis.upper()] == obl:\n",
    "            return remove_caps(dekdic[dis.upper()].title())\n",
    "    return dis\n",
    "\n",
    "pop['dis'] = pop.apply(decommunize, axis=1)\n",
    "pop = pop.replace({'dis': disreplace}, regex=True)"
   ]
  },
  {
   "cell_type": "code",
   "execution_count": 20,
   "metadata": {
    "collapsed": true
   },
   "outputs": [],
   "source": [
    "#pop.to_csv('pop2016.csv', index=False)"
   ]
  },
  {
   "cell_type": "code",
   "execution_count": 21,
   "metadata": {
    "collapsed": false
   },
   "outputs": [],
   "source": [
    "for year in ['2014', '2015', '2016']:\n",
    "    pop[year] = pd.to_numeric(pop[year], errors='coerce')"
   ]
  },
  {
   "cell_type": "markdown",
   "metadata": {},
   "source": [
    "Тепер таблиці готові до об’єднання. Помилок лишитись не має."
   ]
  },
  {
   "cell_type": "code",
   "execution_count": 22,
   "metadata": {
    "collapsed": true
   },
   "outputs": [],
   "source": [
    "newpop = pop.merge(koatuu, on=['town', 'obl', 'dis'], how='left')"
   ]
  },
  {
   "cell_type": "code",
   "execution_count": 23,
   "metadata": {
    "collapsed": true
   },
   "outputs": [],
   "source": [
    "newpop.to_csv('ukrtownpop.csv', index=False)"
   ]
  }
 ],
 "metadata": {
  "anaconda-cloud": {},
  "kernelspec": {
   "display_name": "Python [default]",
   "language": "python",
   "name": "python3"
  },
  "language_info": {
   "codemirror_mode": {
    "name": "ipython",
    "version": 3
   },
   "file_extension": ".py",
   "mimetype": "text/x-python",
   "name": "python",
   "nbconvert_exporter": "python",
   "pygments_lexer": "ipython3",
   "version": "3.5.2"
  }
 },
 "nbformat": 4,
 "nbformat_minor": 0
}
